{
 "cells": [
  {
   "cell_type": "code",
   "execution_count": null,
   "id": "1964a535-c904-49bf-9c34-69f8548d18c7",
   "metadata": {},
   "outputs": [],
   "source": [
    "import gcm_filters\n",
    "import intake\n",
    "import hvplot.xarray\n",
    "import numpy as np\n",
    "import geoviews as gv\n",
    "from cartopy import crs as ccrs\n",
    "import xarray as xr\n",
    "import matplotlib.pyplot as plt\n",
    "import dask\n",
    "\n",
    "gv.extension('bokeh')"
   ]
  },
  {
   "cell_type": "code",
   "execution_count": 2,
   "id": "acbb68c1-de2d-4f60-b5cd-01760db81628",
   "metadata": {},
   "outputs": [],
   "source": [
    "cat = intake.open_catalog('../catalog/intake.yaml')"
   ]
  },
  {
   "cell_type": "code",
   "execution_count": 3,
   "id": "7828a8e6-80da-4d1a-aa41-f11bc7188110",
   "metadata": {},
   "outputs": [],
   "source": [
    "ds = cat.Himawari_SST_L3C_1d_ngt.to_dask()"
   ]
  },
  {
   "cell_type": "code",
   "execution_count": 4,
   "id": "c3b3a802-599e-46bd-8065-29edb3e16ba3",
   "metadata": {},
   "outputs": [],
   "source": [
    "ds_august_kimberley = ds.sel(time=slice('2022-08-01',None),lat=slice(-13,-18),lon=slice(118,127))"
   ]
  },
  {
   "cell_type": "code",
   "execution_count": null,
   "id": "72927353-a9c1-4b35-a5c2-e2e45b812fcf",
   "metadata": {},
   "outputs": [],
   "source": [
    "cloud_free = ds_august_kimberley.sea_surface_temperature.sel(time='2022-08-13 19:00:00').load()\n",
    "cloud_free.hvplot(cmap='magma',crs=ccrs.PlateCarree())"
   ]
  },
  {
   "cell_type": "code",
   "execution_count": 6,
   "id": "23337a7c-d8a1-46cf-a747-ab91dd91a27d",
   "metadata": {},
   "outputs": [
    {
     "data": {
      "text/plain": [
       "['area', 'wet_mask']"
      ]
     },
     "execution_count": 6,
     "metadata": {},
     "output_type": "execute_result"
    }
   ],
   "source": [
    "gcm_filters.required_grid_vars(gcm_filters.GridType.REGULAR_WITH_LAND_AREA_WEIGHTED)"
   ]
  },
  {
   "cell_type": "code",
   "execution_count": 7,
   "id": "2239177e-6094-4fa6-a4d1-590b34c4b803",
   "metadata": {},
   "outputs": [],
   "source": [
    "wet_mask = 1-np.isnan(cloud_free).astype(int)\n",
    "\n",
    "# Add a little mask boundary around the outside to reduce edge effects\n",
    "max_scale=16\n",
    "boundary = xr.ones_like(wet_mask)\n",
    "boundary[0:max_scale,:]=0\n",
    "boundary[-max_scale:,:]=0\n",
    "boundary[:,0:max_scale]=0\n",
    "boundary[:,-max_scale:]=0\n",
    "wet_mask = wet_mask * boundary"
   ]
  },
  {
   "cell_type": "code",
   "execution_count": 8,
   "id": "1fec5dbf-ca03-4631-8783-abb66a17b827",
   "metadata": {},
   "outputs": [
    {
     "data": {
      "text/html": [
       "<div><svg style=\"position: absolute; width: 0; height: 0; overflow: hidden\">\n",
       "<defs>\n",
       "<symbol id=\"icon-database\" viewBox=\"0 0 32 32\">\n",
       "<path d=\"M16 0c-8.837 0-16 2.239-16 5v4c0 2.761 7.163 5 16 5s16-2.239 16-5v-4c0-2.761-7.163-5-16-5z\"></path>\n",
       "<path d=\"M16 17c-8.837 0-16-2.239-16-5v6c0 2.761 7.163 5 16 5s16-2.239 16-5v-6c0 2.761-7.163 5-16 5z\"></path>\n",
       "<path d=\"M16 26c-8.837 0-16-2.239-16-5v6c0 2.761 7.163 5 16 5s16-2.239 16-5v-6c0 2.761-7.163 5-16 5z\"></path>\n",
       "</symbol>\n",
       "<symbol id=\"icon-file-text2\" viewBox=\"0 0 32 32\">\n",
       "<path d=\"M28.681 7.159c-0.694-0.947-1.662-2.053-2.724-3.116s-2.169-2.030-3.116-2.724c-1.612-1.182-2.393-1.319-2.841-1.319h-15.5c-1.378 0-2.5 1.121-2.5 2.5v27c0 1.378 1.122 2.5 2.5 2.5h23c1.378 0 2.5-1.122 2.5-2.5v-19.5c0-0.448-0.137-1.23-1.319-2.841zM24.543 5.457c0.959 0.959 1.712 1.825 2.268 2.543h-4.811v-4.811c0.718 0.556 1.584 1.309 2.543 2.268zM28 29.5c0 0.271-0.229 0.5-0.5 0.5h-23c-0.271 0-0.5-0.229-0.5-0.5v-27c0-0.271 0.229-0.5 0.5-0.5 0 0 15.499-0 15.5 0v7c0 0.552 0.448 1 1 1h7v19.5z\"></path>\n",
       "<path d=\"M23 26h-14c-0.552 0-1-0.448-1-1s0.448-1 1-1h14c0.552 0 1 0.448 1 1s-0.448 1-1 1z\"></path>\n",
       "<path d=\"M23 22h-14c-0.552 0-1-0.448-1-1s0.448-1 1-1h14c0.552 0 1 0.448 1 1s-0.448 1-1 1z\"></path>\n",
       "<path d=\"M23 18h-14c-0.552 0-1-0.448-1-1s0.448-1 1-1h14c0.552 0 1 0.448 1 1s-0.448 1-1 1z\"></path>\n",
       "</symbol>\n",
       "</defs>\n",
       "</svg>\n",
       "<style>/* CSS stylesheet for displaying xarray objects in jupyterlab.\n",
       " *\n",
       " */\n",
       "\n",
       ":root {\n",
       "  --xr-font-color0: var(--jp-content-font-color0, rgba(0, 0, 0, 1));\n",
       "  --xr-font-color2: var(--jp-content-font-color2, rgba(0, 0, 0, 0.54));\n",
       "  --xr-font-color3: var(--jp-content-font-color3, rgba(0, 0, 0, 0.38));\n",
       "  --xr-border-color: var(--jp-border-color2, #e0e0e0);\n",
       "  --xr-disabled-color: var(--jp-layout-color3, #bdbdbd);\n",
       "  --xr-background-color: var(--jp-layout-color0, white);\n",
       "  --xr-background-color-row-even: var(--jp-layout-color1, white);\n",
       "  --xr-background-color-row-odd: var(--jp-layout-color2, #eeeeee);\n",
       "}\n",
       "\n",
       "html[theme=dark],\n",
       "body[data-theme=dark],\n",
       "body.vscode-dark {\n",
       "  --xr-font-color0: rgba(255, 255, 255, 1);\n",
       "  --xr-font-color2: rgba(255, 255, 255, 0.54);\n",
       "  --xr-font-color3: rgba(255, 255, 255, 0.38);\n",
       "  --xr-border-color: #1F1F1F;\n",
       "  --xr-disabled-color: #515151;\n",
       "  --xr-background-color: #111111;\n",
       "  --xr-background-color-row-even: #111111;\n",
       "  --xr-background-color-row-odd: #313131;\n",
       "}\n",
       "\n",
       ".xr-wrap {\n",
       "  display: block !important;\n",
       "  min-width: 300px;\n",
       "  max-width: 700px;\n",
       "}\n",
       "\n",
       ".xr-text-repr-fallback {\n",
       "  /* fallback to plain text repr when CSS is not injected (untrusted notebook) */\n",
       "  display: none;\n",
       "}\n",
       "\n",
       ".xr-header {\n",
       "  padding-top: 6px;\n",
       "  padding-bottom: 6px;\n",
       "  margin-bottom: 4px;\n",
       "  border-bottom: solid 1px var(--xr-border-color);\n",
       "}\n",
       "\n",
       ".xr-header > div,\n",
       ".xr-header > ul {\n",
       "  display: inline;\n",
       "  margin-top: 0;\n",
       "  margin-bottom: 0;\n",
       "}\n",
       "\n",
       ".xr-obj-type,\n",
       ".xr-array-name {\n",
       "  margin-left: 2px;\n",
       "  margin-right: 10px;\n",
       "}\n",
       "\n",
       ".xr-obj-type {\n",
       "  color: var(--xr-font-color2);\n",
       "}\n",
       "\n",
       ".xr-sections {\n",
       "  padding-left: 0 !important;\n",
       "  display: grid;\n",
       "  grid-template-columns: 150px auto auto 1fr 20px 20px;\n",
       "}\n",
       "\n",
       ".xr-section-item {\n",
       "  display: contents;\n",
       "}\n",
       "\n",
       ".xr-section-item input {\n",
       "  display: none;\n",
       "}\n",
       "\n",
       ".xr-section-item input + label {\n",
       "  color: var(--xr-disabled-color);\n",
       "}\n",
       "\n",
       ".xr-section-item input:enabled + label {\n",
       "  cursor: pointer;\n",
       "  color: var(--xr-font-color2);\n",
       "}\n",
       "\n",
       ".xr-section-item input:enabled + label:hover {\n",
       "  color: var(--xr-font-color0);\n",
       "}\n",
       "\n",
       ".xr-section-summary {\n",
       "  grid-column: 1;\n",
       "  color: var(--xr-font-color2);\n",
       "  font-weight: 500;\n",
       "}\n",
       "\n",
       ".xr-section-summary > span {\n",
       "  display: inline-block;\n",
       "  padding-left: 0.5em;\n",
       "}\n",
       "\n",
       ".xr-section-summary-in:disabled + label {\n",
       "  color: var(--xr-font-color2);\n",
       "}\n",
       "\n",
       ".xr-section-summary-in + label:before {\n",
       "  display: inline-block;\n",
       "  content: '►';\n",
       "  font-size: 11px;\n",
       "  width: 15px;\n",
       "  text-align: center;\n",
       "}\n",
       "\n",
       ".xr-section-summary-in:disabled + label:before {\n",
       "  color: var(--xr-disabled-color);\n",
       "}\n",
       "\n",
       ".xr-section-summary-in:checked + label:before {\n",
       "  content: '▼';\n",
       "}\n",
       "\n",
       ".xr-section-summary-in:checked + label > span {\n",
       "  display: none;\n",
       "}\n",
       "\n",
       ".xr-section-summary,\n",
       ".xr-section-inline-details {\n",
       "  padding-top: 4px;\n",
       "  padding-bottom: 4px;\n",
       "}\n",
       "\n",
       ".xr-section-inline-details {\n",
       "  grid-column: 2 / -1;\n",
       "}\n",
       "\n",
       ".xr-section-details {\n",
       "  display: none;\n",
       "  grid-column: 1 / -1;\n",
       "  margin-bottom: 5px;\n",
       "}\n",
       "\n",
       ".xr-section-summary-in:checked ~ .xr-section-details {\n",
       "  display: contents;\n",
       "}\n",
       "\n",
       ".xr-array-wrap {\n",
       "  grid-column: 1 / -1;\n",
       "  display: grid;\n",
       "  grid-template-columns: 20px auto;\n",
       "}\n",
       "\n",
       ".xr-array-wrap > label {\n",
       "  grid-column: 1;\n",
       "  vertical-align: top;\n",
       "}\n",
       "\n",
       ".xr-preview {\n",
       "  color: var(--xr-font-color3);\n",
       "}\n",
       "\n",
       ".xr-array-preview,\n",
       ".xr-array-data {\n",
       "  padding: 0 5px !important;\n",
       "  grid-column: 2;\n",
       "}\n",
       "\n",
       ".xr-array-data,\n",
       ".xr-array-in:checked ~ .xr-array-preview {\n",
       "  display: none;\n",
       "}\n",
       "\n",
       ".xr-array-in:checked ~ .xr-array-data,\n",
       ".xr-array-preview {\n",
       "  display: inline-block;\n",
       "}\n",
       "\n",
       ".xr-dim-list {\n",
       "  display: inline-block !important;\n",
       "  list-style: none;\n",
       "  padding: 0 !important;\n",
       "  margin: 0;\n",
       "}\n",
       "\n",
       ".xr-dim-list li {\n",
       "  display: inline-block;\n",
       "  padding: 0;\n",
       "  margin: 0;\n",
       "}\n",
       "\n",
       ".xr-dim-list:before {\n",
       "  content: '(';\n",
       "}\n",
       "\n",
       ".xr-dim-list:after {\n",
       "  content: ')';\n",
       "}\n",
       "\n",
       ".xr-dim-list li:not(:last-child):after {\n",
       "  content: ',';\n",
       "  padding-right: 5px;\n",
       "}\n",
       "\n",
       ".xr-has-index {\n",
       "  font-weight: bold;\n",
       "}\n",
       "\n",
       ".xr-var-list,\n",
       ".xr-var-item {\n",
       "  display: contents;\n",
       "}\n",
       "\n",
       ".xr-var-item > div,\n",
       ".xr-var-item label,\n",
       ".xr-var-item > .xr-var-name span {\n",
       "  background-color: var(--xr-background-color-row-even);\n",
       "  margin-bottom: 0;\n",
       "}\n",
       "\n",
       ".xr-var-item > .xr-var-name:hover span {\n",
       "  padding-right: 5px;\n",
       "}\n",
       "\n",
       ".xr-var-list > li:nth-child(odd) > div,\n",
       ".xr-var-list > li:nth-child(odd) > label,\n",
       ".xr-var-list > li:nth-child(odd) > .xr-var-name span {\n",
       "  background-color: var(--xr-background-color-row-odd);\n",
       "}\n",
       "\n",
       ".xr-var-name {\n",
       "  grid-column: 1;\n",
       "}\n",
       "\n",
       ".xr-var-dims {\n",
       "  grid-column: 2;\n",
       "}\n",
       "\n",
       ".xr-var-dtype {\n",
       "  grid-column: 3;\n",
       "  text-align: right;\n",
       "  color: var(--xr-font-color2);\n",
       "}\n",
       "\n",
       ".xr-var-preview {\n",
       "  grid-column: 4;\n",
       "}\n",
       "\n",
       ".xr-var-name,\n",
       ".xr-var-dims,\n",
       ".xr-var-dtype,\n",
       ".xr-preview,\n",
       ".xr-attrs dt {\n",
       "  white-space: nowrap;\n",
       "  overflow: hidden;\n",
       "  text-overflow: ellipsis;\n",
       "  padding-right: 10px;\n",
       "}\n",
       "\n",
       ".xr-var-name:hover,\n",
       ".xr-var-dims:hover,\n",
       ".xr-var-dtype:hover,\n",
       ".xr-attrs dt:hover {\n",
       "  overflow: visible;\n",
       "  width: auto;\n",
       "  z-index: 1;\n",
       "}\n",
       "\n",
       ".xr-var-attrs,\n",
       ".xr-var-data {\n",
       "  display: none;\n",
       "  background-color: var(--xr-background-color) !important;\n",
       "  padding-bottom: 5px !important;\n",
       "}\n",
       "\n",
       ".xr-var-attrs-in:checked ~ .xr-var-attrs,\n",
       ".xr-var-data-in:checked ~ .xr-var-data {\n",
       "  display: block;\n",
       "}\n",
       "\n",
       ".xr-var-data > table {\n",
       "  float: right;\n",
       "}\n",
       "\n",
       ".xr-var-name span,\n",
       ".xr-var-data,\n",
       ".xr-attrs {\n",
       "  padding-left: 25px !important;\n",
       "}\n",
       "\n",
       ".xr-attrs,\n",
       ".xr-var-attrs,\n",
       ".xr-var-data {\n",
       "  grid-column: 1 / -1;\n",
       "}\n",
       "\n",
       "dl.xr-attrs {\n",
       "  padding: 0;\n",
       "  margin: 0;\n",
       "  display: grid;\n",
       "  grid-template-columns: 125px auto;\n",
       "}\n",
       "\n",
       ".xr-attrs dt,\n",
       ".xr-attrs dd {\n",
       "  padding: 0;\n",
       "  margin: 0;\n",
       "  float: left;\n",
       "  padding-right: 10px;\n",
       "  width: auto;\n",
       "}\n",
       "\n",
       ".xr-attrs dt {\n",
       "  font-weight: normal;\n",
       "  grid-column: 1;\n",
       "}\n",
       "\n",
       ".xr-attrs dt:hover span {\n",
       "  display: inline-block;\n",
       "  background: var(--xr-background-color);\n",
       "  padding-right: 10px;\n",
       "}\n",
       "\n",
       ".xr-attrs dd {\n",
       "  grid-column: 2;\n",
       "  white-space: pre-wrap;\n",
       "  word-break: break-all;\n",
       "}\n",
       "\n",
       ".xr-icon-database,\n",
       ".xr-icon-file-text2 {\n",
       "  display: inline-block;\n",
       "  vertical-align: middle;\n",
       "  width: 1em;\n",
       "  height: 1.5em !important;\n",
       "  stroke-width: 0;\n",
       "  stroke: currentColor;\n",
       "  fill: currentColor;\n",
       "}\n",
       "</style><pre class='xr-text-repr-fallback'>&lt;xarray.DataArray &#x27;lat&#x27; (lat: 250, lon: 450)&gt;\n",
       "array([[4.8004994, 4.8004994, 4.8004994, ..., 4.8004994, 4.8004994,\n",
       "        4.8004994],\n",
       "       [4.800122 , 4.800122 , 4.800122 , ..., 4.800122 , 4.800122 ,\n",
       "        4.800122 ],\n",
       "       [4.799744 , 4.799744 , 4.799744 , ..., 4.799744 , 4.799744 ,\n",
       "        4.799744 ],\n",
       "       ...,\n",
       "       [4.689937 , 4.689937 , 4.689937 , ..., 4.689937 , 4.689937 ,\n",
       "        4.689937 ],\n",
       "       [4.6894197, 4.6894197, 4.6894197, ..., 4.6894197, 4.6894197,\n",
       "        4.6894197],\n",
       "       [4.688901 , 4.688901 , 4.688901 , ..., 4.688901 , 4.688901 ,\n",
       "        4.688901 ]], dtype=float32)\n",
       "Coordinates:\n",
       "  * lat      (lat) float32 -13.01 -13.03 -13.05 -13.07 ... -17.95 -17.97 -17.99\n",
       "    time     datetime64[ns] 2022-08-13T19:00:00\n",
       "  * lon      (lon) float32 118.0 118.0 118.1 118.1 ... 126.9 126.9 127.0 127.0</pre><div class='xr-wrap' style='display:none'><div class='xr-header'><div class='xr-obj-type'>xarray.DataArray</div><div class='xr-array-name'>'lat'</div><ul class='xr-dim-list'><li><span class='xr-has-index'>lat</span>: 250</li><li><span class='xr-has-index'>lon</span>: 450</li></ul></div><ul class='xr-sections'><li class='xr-section-item'><div class='xr-array-wrap'><input id='section-434cdd3a-4be5-42e5-8b55-b8386c9a3b10' class='xr-array-in' type='checkbox' checked><label for='section-434cdd3a-4be5-42e5-8b55-b8386c9a3b10' title='Show/hide data repr'><svg class='icon xr-icon-database'><use xlink:href='#icon-database'></use></svg></label><div class='xr-array-preview xr-preview'><span>4.8 4.8 4.8 4.8 4.8 4.8 4.8 ... 4.689 4.689 4.689 4.689 4.689 4.689</span></div><div class='xr-array-data'><pre>array([[4.8004994, 4.8004994, 4.8004994, ..., 4.8004994, 4.8004994,\n",
       "        4.8004994],\n",
       "       [4.800122 , 4.800122 , 4.800122 , ..., 4.800122 , 4.800122 ,\n",
       "        4.800122 ],\n",
       "       [4.799744 , 4.799744 , 4.799744 , ..., 4.799744 , 4.799744 ,\n",
       "        4.799744 ],\n",
       "       ...,\n",
       "       [4.689937 , 4.689937 , 4.689937 , ..., 4.689937 , 4.689937 ,\n",
       "        4.689937 ],\n",
       "       [4.6894197, 4.6894197, 4.6894197, ..., 4.6894197, 4.6894197,\n",
       "        4.6894197],\n",
       "       [4.688901 , 4.688901 , 4.688901 , ..., 4.688901 , 4.688901 ,\n",
       "        4.688901 ]], dtype=float32)</pre></div></div></li><li class='xr-section-item'><input id='section-dd4724dc-9d75-4186-8c5f-044c3074f440' class='xr-section-summary-in' type='checkbox'  checked><label for='section-dd4724dc-9d75-4186-8c5f-044c3074f440' class='xr-section-summary' >Coordinates: <span>(3)</span></label><div class='xr-section-inline-details'></div><div class='xr-section-details'><ul class='xr-var-list'><li class='xr-var-item'><div class='xr-var-name'><span class='xr-has-index'>lat</span></div><div class='xr-var-dims'>(lat)</div><div class='xr-var-dtype'>float32</div><div class='xr-var-preview xr-preview'>-13.01 -13.03 ... -17.97 -17.99</div><input id='attrs-04c09ec3-c56c-4bfb-b7fe-282fe0936a07' class='xr-var-attrs-in' type='checkbox' ><label for='attrs-04c09ec3-c56c-4bfb-b7fe-282fe0936a07' title='Show/Hide attributes'><svg class='icon xr-icon-file-text2'><use xlink:href='#icon-file-text2'></use></svg></label><input id='data-5aa460e0-6bab-4e5e-baa8-c5bf1e2bf5dd' class='xr-var-data-in' type='checkbox'><label for='data-5aa460e0-6bab-4e5e-baa8-c5bf1e2bf5dd' title='Show/Hide data repr'><svg class='icon xr-icon-database'><use xlink:href='#icon-database'></use></svg></label><div class='xr-var-attrs'><dl class='xr-attrs'><dt><span>axis :</span></dt><dd>Y</dd><dt><span>comment :</span></dt><dd>Latitudes for locating data</dd><dt><span>long_name :</span></dt><dd>latitude</dd><dt><span>standard_name :</span></dt><dd>latitude</dd><dt><span>units :</span></dt><dd>degrees_north</dd><dt><span>valid_max :</span></dt><dd>90.0</dd><dt><span>valid_min :</span></dt><dd>-90.0</dd></dl></div><div class='xr-var-data'><pre>array([-13.01, -13.03, -13.05, ..., -17.95, -17.97, -17.99], dtype=float32)</pre></div></li><li class='xr-var-item'><div class='xr-var-name'><span>time</span></div><div class='xr-var-dims'>()</div><div class='xr-var-dtype'>datetime64[ns]</div><div class='xr-var-preview xr-preview'>2022-08-13T19:00:00</div><input id='attrs-81c879ef-e947-4c10-a16f-1ecefc75e573' class='xr-var-attrs-in' type='checkbox' ><label for='attrs-81c879ef-e947-4c10-a16f-1ecefc75e573' title='Show/Hide attributes'><svg class='icon xr-icon-file-text2'><use xlink:href='#icon-file-text2'></use></svg></label><input id='data-7e387905-3c42-4465-b279-8270ae49e130' class='xr-var-data-in' type='checkbox'><label for='data-7e387905-3c42-4465-b279-8270ae49e130' title='Show/Hide data repr'><svg class='icon xr-icon-database'><use xlink:href='#icon-database'></use></svg></label><div class='xr-var-attrs'><dl class='xr-attrs'><dt><span>axis :</span></dt><dd>T</dd><dt><span>comment :</span></dt><dd>Seconds since 1981-01-01 00:00:00</dd><dt><span>long_name :</span></dt><dd>reference time of sst file</dd><dt><span>standard_name :</span></dt><dd>time</dd></dl></div><div class='xr-var-data'><pre>array(&#x27;2022-08-13T19:00:00.000000000&#x27;, dtype=&#x27;datetime64[ns]&#x27;)</pre></div></li><li class='xr-var-item'><div class='xr-var-name'><span class='xr-has-index'>lon</span></div><div class='xr-var-dims'>(lon)</div><div class='xr-var-dtype'>float32</div><div class='xr-var-preview xr-preview'>118.0 118.0 118.1 ... 127.0 127.0</div><input id='attrs-ed46040d-1336-4b2a-8e7d-fa19d080b8e3' class='xr-var-attrs-in' type='checkbox' ><label for='attrs-ed46040d-1336-4b2a-8e7d-fa19d080b8e3' title='Show/Hide attributes'><svg class='icon xr-icon-file-text2'><use xlink:href='#icon-file-text2'></use></svg></label><input id='data-f439584a-390a-4960-ad32-f4f534949d69' class='xr-var-data-in' type='checkbox'><label for='data-f439584a-390a-4960-ad32-f4f534949d69' title='Show/Hide data repr'><svg class='icon xr-icon-database'><use xlink:href='#icon-database'></use></svg></label><div class='xr-var-attrs'><dl class='xr-attrs'><dt><span>axis :</span></dt><dd>X</dd><dt><span>comment :</span></dt><dd>Longitude for locating data</dd><dt><span>long_name :</span></dt><dd>longitude</dd><dt><span>standard_name :</span></dt><dd>longitude</dd><dt><span>units :</span></dt><dd>degrees_east</dd><dt><span>valid_max :</span></dt><dd>180.0</dd><dt><span>valid_min :</span></dt><dd>-180.0</dd></dl></div><div class='xr-var-data'><pre>array([118.01, 118.03, 118.05, ..., 126.95, 126.97, 126.99], dtype=float32)</pre></div></li></ul></div></li><li class='xr-section-item'><input id='section-a7236e33-e714-48c1-a3ba-403a6f2b4f66' class='xr-section-summary-in' type='checkbox' disabled ><label for='section-a7236e33-e714-48c1-a3ba-403a6f2b4f66' class='xr-section-summary'  title='Expand/collapse section'>Attributes: <span>(0)</span></label><div class='xr-section-inline-details'></div><div class='xr-section-details'><dl class='xr-attrs'></dl></div></li></ul></div></div>"
      ],
      "text/plain": [
       "<xarray.DataArray 'lat' (lat: 250, lon: 450)>\n",
       "array([[4.8004994, 4.8004994, 4.8004994, ..., 4.8004994, 4.8004994,\n",
       "        4.8004994],\n",
       "       [4.800122 , 4.800122 , 4.800122 , ..., 4.800122 , 4.800122 ,\n",
       "        4.800122 ],\n",
       "       [4.799744 , 4.799744 , 4.799744 , ..., 4.799744 , 4.799744 ,\n",
       "        4.799744 ],\n",
       "       ...,\n",
       "       [4.689937 , 4.689937 , 4.689937 , ..., 4.689937 , 4.689937 ,\n",
       "        4.689937 ],\n",
       "       [4.6894197, 4.6894197, 4.6894197, ..., 4.6894197, 4.6894197,\n",
       "        4.6894197],\n",
       "       [4.688901 , 4.688901 , 4.688901 , ..., 4.688901 , 4.688901 ,\n",
       "        4.688901 ]], dtype=float32)\n",
       "Coordinates:\n",
       "  * lat      (lat) float32 -13.01 -13.03 -13.05 -13.07 ... -17.95 -17.97 -17.99\n",
       "    time     datetime64[ns] 2022-08-13T19:00:00\n",
       "  * lon      (lon) float32 118.0 118.0 118.1 118.1 ... 126.9 126.9 127.0 127.0"
      ]
     },
     "execution_count": 8,
     "metadata": {},
     "output_type": "execute_result"
    }
   ],
   "source": [
    "dx = 0.02\n",
    "a = 6378.137\n",
    "e = 1-6356.752**2/a**2\n",
    "r = np.pi/180\n",
    "area = (a*r*dx)**2*(1-e)*np.cos(r*cloud_free.lat)/(1-e*np.sin(r*cloud_free.lat)**2)**2\n",
    "area = area.broadcast_like(cloud_free)\n",
    "area"
   ]
  },
  {
   "cell_type": "code",
   "execution_count": 9,
   "id": "4c8d3728-0dfc-499e-a0fe-d7888dd29837",
   "metadata": {},
   "outputs": [
    {
     "data": {
      "image/png": "[encoded data removed]",
      "text/plain": [
       "<Figure size 640x480 with 1 Axes>"
      ]
     },
     "metadata": {},
     "output_type": "display_data"
    }
   ],
   "source": [
    "filter = gcm_filters.Filter(\n",
    "    filter_scale=64,\n",
    "    dx_min=1,\n",
    "    filter_shape=gcm_filters.FilterShape.TAPER,\n",
    "    grid_type=gcm_filters.GridType.REGULAR_WITH_LAND_AREA_WEIGHTED,\n",
    "    grid_vars={'wet_mask': wet_mask, 'area':area}\n",
    ")\n",
    "filter.plot_shape()"
   ]
  },
  {
   "cell_type": "code",
   "execution_count": 10,
   "id": "ee606b66-0931-439e-9da0-4856672cb32a",
   "metadata": {},
   "outputs": [],
   "source": [
    "filtered_sst = filter.apply(cloud_free, dims=['lat', 'lon']).compute()"
   ]
  },
  {
   "cell_type": "code",
   "execution_count": null,
   "id": "ee9724f9-7bad-4a54-bd73-8eff59b134b5",
   "metadata": {},
   "outputs": [],
   "source": [
    "%%opts Image [width=900 height=600]\n",
    "filtered_sst.hvplot(cmap='magma',crs=ccrs.PlateCarree())"
   ]
  },
  {
   "cell_type": "code",
   "execution_count": null,
   "id": "51ed850b-5d96-47f0-8a46-6aa5ea6fe308",
   "metadata": {},
   "outputs": [],
   "source": [
    "%%opts Image [width=900 height=600]\n",
    "(cloud_free - filtered_sst).rename('highpass').hvplot(cmap='RdBu',crs=ccrs.PlateCarree()).redim(highpass=dict(range=(-0.5, 0.5)))"
   ]
  },
  {
   "cell_type": "markdown",
   "id": "65c39fd1-290a-4c2f-8823-c91035df576c",
   "metadata": {},
   "source": [
    "# Build a bank of non-overlapping filters\n",
    "\n",
    "There is a bit of ripple in these, but they are much sharper at separating the scales"
   ]
  },
  {
   "cell_type": "code",
   "execution_count": 13,
   "id": "31d2ad2e-5b65-48a7-ac4a-49bc2b7ba173",
   "metadata": {
    "tags": []
   },
   "outputs": [
    {
     "data": {
      "text/plain": [
       "(0.0, 3.0)"
      ]
     },
     "execution_count": 13,
     "metadata": {},
     "output_type": "execute_result"
    },
    {
     "data": {
      "image/png": "[encoded data removed]",
      "text/plain": [
       "<Figure size 640x480 with 1 Axes>"
      ]
     },
     "metadata": {},
     "output_type": "display_data"
    }
   ],
   "source": [
    "filter_bank = {}\n",
    "scales = [32, 8, 3]\n",
    "fig,ax = plt.subplots()\n",
    "for i,s in enumerate(scales):\n",
    "    filter = gcm_filters.Filter(\n",
    "            filter_scale=s,\n",
    "            dx_min=1,\n",
    "            filter_shape=gcm_filters.FilterShape.TAPER,\n",
    "            grid_type=gcm_filters.GridType.REGULAR_WITH_LAND_AREA_WEIGHTED,\n",
    "            grid_vars={'wet_mask': wet_mask, 'area':area})\n",
    "    filter.plot_shape(ax=ax)\n",
    "    filter_bank[s] = filter\n",
    "    \n",
    "ax.set_xlim(0,3)"
   ]
  },
  {
   "cell_type": "markdown",
   "id": "e2bd9f84-9090-4975-acfd-2e371ee779f6",
   "metadata": {},
   "source": [
    "# Test on timeseries"
   ]
  },
  {
   "cell_type": "code",
   "execution_count": 14,
   "id": "132dcfa7-17b9-4d1f-89fc-2ee4fc5f711b",
   "metadata": {},
   "outputs": [],
   "source": [
    "timeseries = ds_august_kimberley.sea_surface_temperature.sel(time='2022-08')\n",
    "timeseries = timeseries - timeseries.mean(dim='time')\n",
    "wet_mask = 1-np.isnan(timeseries).astype(int)\n",
    "wet_mask = wet_mask * boundary"
   ]
  },
  {
   "cell_type": "code",
   "execution_count": 15,
   "id": "bc387589-2357-404d-8a6f-c474cb70fa5d",
   "metadata": {},
   "outputs": [],
   "source": [
    "band_passed = []\n",
    "high_pass = None\n",
    "for s,filter in filter_bank.items():\n",
    "    if high_pass is None:\n",
    "        low_pass = filter.apply(timeseries, dims=['lat', 'lon'])\n",
    "        high_pass = timeseries - low_pass\n",
    "    else:\n",
    "        low_pass = filter.apply(high_pass, dims=['lat', 'lon'])\n",
    "        high_pass = high_pass - low_pass\n",
    "    band_passed.append(low_pass)\n",
    "# Append a 'scale' for the residual\n",
    "band_passed.append(high_pass)"
   ]
  },
  {
   "cell_type": "code",
   "execution_count": null,
   "id": "d3eab5e7-b072-4137-a817-7899fce4b341",
   "metadata": {},
   "outputs": [],
   "source": [
    "band_passed_ds = xr.concat(band_passed, dim=xr.DataArray(scales + [0,],name='scale',dims=['scale',]))\n",
    "band_passed_ds"
   ]
  },
  {
   "cell_type": "code",
   "execution_count": 17,
   "id": "a7063119-7479-4d07-aa47-2436832f2660",
   "metadata": {},
   "outputs": [
    {
     "data": {
      "text/plain": [
       "729.0"
      ]
     },
     "execution_count": 17,
     "metadata": {},
     "output_type": "execute_result"
    }
   ],
   "source": [
    "band_passed_ds.nbytes/1E6"
   ]
  },
  {
   "cell_type": "markdown",
   "id": "5343103f-347c-40eb-bb9c-6da11e4a1733",
   "metadata": {},
   "source": [
    "# Start a dask cluster for calculation"
   ]
  },
  {
   "cell_type": "code",
   "execution_count": 18,
   "id": "0e6e9d92-e399-49c7-94a6-4eb9872840b9",
   "metadata": {},
   "outputs": [
    {
     "name": "stdout",
     "output_type": "stream",
     "text": [
      "An existing cluster was found. Connected to cluster \u001b[1mdev.8a2ed09fb8134696b4211e06f27cc159\u001b[0m\n"
     ]
    },
    {
     "data": {
      "application/vnd.jupyter.widget-view+json": {
       "model_id": "2f6e1540f5fe4396ab7270e8a3594274",
       "version_major": 2,
       "version_minor": 0
      },
      "text/plain": [
       "VBox(children=(HTML(value='<h2>GatewayCluster</h2>'), HBox(children=(HTML(value='\\n<div>\\n<style scoped>\\n    …"
      ]
     },
     "metadata": {},
     "output_type": "display_data"
    }
   ],
   "source": [
    "def get_distributed_cluster(conda_environment='pbranson/gcm-filters-env', profile='Medium Worker', min_workers=1, max_workers=20):\n",
    "    from dask.distributed import Client\n",
    "    from dask_gateway import Gateway\n",
    "    \n",
    "    # Dask gateway\n",
    "    gateway = Gateway()\n",
    "    clusters = gateway.list_clusters()\n",
    "    if not clusters:\n",
    "        print('Creating new cluster. Please wait for this to finish.')\n",
    "        options = gateway.cluster_options()\n",
    "        options.conda_environment = conda_environment\n",
    "        options.profile = profile\n",
    "        cluster = gateway.new_cluster(cluster_options=options)\n",
    "    else:\n",
    "        print(f'An existing cluster was found. Connected to cluster \\033[1m{clusters[0].name}\\033[0m')\n",
    "        cluster=gateway.connect(clusters[0].name)\n",
    "    cluster.adapt(minimum=min_workers, maximum=max_workers)\n",
    "    client = cluster.get_client()\n",
    "    client.wait_for_workers(n_workers=1)\n",
    "    display(cluster)\n",
    "    return client\n",
    "client = get_distributed_cluster()"
   ]
  },
  {
   "cell_type": "code",
   "execution_count": 19,
   "id": "160a984f-428b-4656-9469-395d57eb5fe4",
   "metadata": {},
   "outputs": [],
   "source": [
    "band_passed_ds_masked = band_passed_ds.where(boundary.astype(bool),np.nan)\n",
    "band_passed_ds_masked = band_passed_ds_masked.compute()"
   ]
  },
  {
   "cell_type": "code",
   "execution_count": null,
   "id": "7e428f6b-4c1b-4c8e-b505-f55ed68cdca4",
   "metadata": {},
   "outputs": [],
   "source": [
    "%%opts Image [width=900 height=500]\n",
    "band_passed_ds_masked.rename('temp_variance').hvplot('lon','lat',dynamic=True,cmap='RdBu',crs=ccrs.PlateCarree()).redim(temp_variance=dict(range=(-0.5, 0.5)))"
   ]
  },
  {
   "cell_type": "code",
   "execution_count": null,
   "id": "dd4566a7-20f8-4ffe-bc15-079ad41511eb",
   "metadata": {},
   "outputs": [],
   "source": [
    "mean = band_passed_ds_masked.mean(dim=['lon','lat']).compute()\n",
    "var = band_passed_ds_masked.var(dim=['lon','lat']).compute()\n",
    "cloudiness = wet_mask.sum(dim=['lon','lat']).compute()"
   ]
  },
  {
   "cell_type": "code",
   "execution_count": null,
   "id": "8eb71692-eec9-43f2-88f7-3a76b317a414",
   "metadata": {},
   "outputs": [],
   "source": [
    "fig,axs = plt.subplots(3,1,figsize=(8,6),sharex=True)\n",
    "mean.plot(ax=axs[0],hue='scale')\n",
    "var.plot(ax=axs[1],hue='scale')\n",
    "cloudiness.plot(ax=axs[2])\n",
    "\n",
    "for i,l in enumerate(['Mean','Variance','Cloudiness/Wet Pixels']):\n",
    "    axs[i].set_ylabel(l)"
   ]
  },
  {
   "cell_type": "code",
   "execution_count": null,
   "id": "a06855d7-4a3b-42ff-a389-ad84a972d2e4",
   "metadata": {},
   "outputs": [],
   "source": [
    "cloudiness.hvplot()"
   ]
  },
  {
   "cell_type": "markdown",
   "id": "2c43851d-aec0-4a27-97fc-cc13aa5472de",
   "metadata": {},
   "source": [
    "# Expand the calculation and filter out the cloudy scenes"
   ]
  },
  {
   "cell_type": "code",
   "execution_count": 22,
   "id": "c9fe6726-6895-40d7-ae75-f12601d85164",
   "metadata": {},
   "outputs": [],
   "source": [
    "client.cluster.scale(20)"
   ]
  },
  {
   "cell_type": "code",
   "execution_count": 23,
   "id": "b4240949-2a43-40b8-9c18-7206477ed1aa",
   "metadata": {},
   "outputs": [
    {
     "data": {
      "text/plain": [
       "5.31855"
      ]
     },
     "execution_count": 23,
     "metadata": {},
     "output_type": "execute_result"
    }
   ],
   "source": [
    "timeseries = ds.sea_surface_temperature.sel(time=slice('2021-04','2022-08'),lat=slice(-13,-18),lon=slice(118,127))\n",
    "timeseries.nbytes/1E9"
   ]
  },
  {
   "cell_type": "code",
   "execution_count": 24,
   "id": "b098c757-67f9-4571-8769-f97b39a6b535",
   "metadata": {},
   "outputs": [],
   "source": [
    "wet_mask = 1-np.isnan(timeseries).astype(int)\n",
    "wet_mask = wet_mask * boundary\n",
    "time_inds = wet_mask.sum(dim=['lon','lat']) > 64000"
   ]
  },
  {
   "cell_type": "code",
   "execution_count": 25,
   "id": "f9a101c9-5b91-467b-b40a-1903438c1c33",
   "metadata": {},
   "outputs": [],
   "source": [
    "time_inds = time_inds.compute()"
   ]
  },
  {
   "cell_type": "code",
   "execution_count": null,
   "id": "e3e6a064-5060-4e83-8f5b-fe359c237415",
   "metadata": {},
   "outputs": [],
   "source": [
    "cloud_free = timeseries.isel(time=time_inds)\n",
    "cloud_free"
   ]
  },
  {
   "cell_type": "code",
   "execution_count": 27,
   "id": "b1b9d3e8-a5b1-4b28-92af-1142deab15de",
   "metadata": {},
   "outputs": [],
   "source": [
    "cloud_free = cloud_free - cloud_free.mean(dim='time')\n",
    "wet_mask = 1-np.isnan(cloud_free).astype(int)\n",
    "wet_mask = wet_mask * boundary"
   ]
  },
  {
   "cell_type": "code",
   "execution_count": null,
   "id": "53f4d93e-58cf-4fd5-9652-76b19a72d2b6",
   "metadata": {},
   "outputs": [],
   "source": [
    "band_passed = []\n",
    "high_pass = None\n",
    "for s,filter in filter_bank.items():\n",
    "    if high_pass is None:\n",
    "        low_pass = filter.apply(cloud_free, dims=['lat', 'lon'])\n",
    "        high_pass = cloud_free - low_pass\n",
    "    else:\n",
    "        low_pass = filter.apply(high_pass, dims=['lat', 'lon'])\n",
    "        high_pass = high_pass - low_pass\n",
    "    band_passed.append(low_pass)\n",
    "\n",
    "band_passed.append(high_pass)\n",
    "band_passed_ds = xr.concat(band_passed, dim=xr.DataArray(scales + [0,],name='scale',dims=['scale',]))\n",
    "band_passed_ds_masked = band_passed_ds.where(boundary.astype(bool),np.nan)\n",
    "band_passed_ds_masked"
   ]
  },
  {
   "cell_type": "code",
   "execution_count": 29,
   "id": "c80e82ba-e7a6-4e1d-a98b-3c84f5dc68cb",
   "metadata": {},
   "outputs": [],
   "source": [
    "results_ds = xr.Dataset()\n",
    "results_ds['mean'] = band_passed_ds_masked.mean(dim=['lon','lat'])\n",
    "results_ds['var'] = band_passed_ds_masked.var(dim=['lon','lat'])\n",
    "results_ds['cloudiness'] = wet_mask.sum(dim=['lon','lat'])"
   ]
  },
  {
   "cell_type": "code",
   "execution_count": null,
   "id": "3bef51eb-fd52-442a-956c-749c355c3884",
   "metadata": {},
   "outputs": [],
   "source": [
    "results_ds"
   ]
  },
  {
   "cell_type": "code",
   "execution_count": 31,
   "id": "fa30f054-c259-490a-a186-2db11a3688c8",
   "metadata": {},
   "outputs": [],
   "source": [
    "results_ds = results_ds.compute()"
   ]
  },
  {
   "cell_type": "code",
   "execution_count": null,
   "id": "4af5ecaa-f10c-4ce3-9b7a-b34020e073d5",
   "metadata": {},
   "outputs": [],
   "source": [
    "import holoviews as hv\n",
    "hv.extension('matplotlib')"
   ]
  },
  {
   "cell_type": "code",
   "execution_count": null,
   "id": "61261500-6c99-48b5-9af5-a710003a0d53",
   "metadata": {},
   "outputs": [],
   "source": [
    "(results_ds['mean'].hvplot.scatter(x='time',by='scale').opts(width=900) + results_ds['var'].hvplot.scatter(x='time',by='scale').opts(width=900)).cols(1)"
   ]
  },
  {
   "cell_type": "code",
   "execution_count": null,
   "id": "c68f399b-1010-4074-b4ed-54868d6af961",
   "metadata": {},
   "outputs": [],
   "source": [
    "client.cluster.shutdown()"
   ]
  },
  {
   "cell_type": "markdown",
   "id": "8f29a166-b7d2-40c9-8a8b-d00883af35a7",
   "metadata": {},
   "source": [
    "# TODO: Next Steps\n",
    "\n",
    "1. Masking the clouds as land works pretty well, however there are small artifacts at the boundaries. Dilating the masks a few pixels could work to filter these artifacts\n",
    "2. Apply QC flags\n",
    "3. Need to consider the appropriate spatial scales for the filters\n",
    "4. Timeseries analysis of the variance and limiting to night time only to try isolate tidal modulation. Also refinement of AOI"
   ]
  },
  {
   "cell_type": "code",
   "execution_count": null,
   "id": "2125c686-b406-40f8-ba16-f74cbdb650f7",
   "metadata": {},
   "outputs": [],
   "source": []
  }
 ],
 "metadata": {
  "kernelspec": {
   "display_name": "pbranson-gcm-filters-env",
   "language": "python",
   "name": "conda-env-pbranson-gcm-filters-env-py"
  },
  "language_info": {
   "codemirror_mode": {
    "name": "ipython",
    "version": 3
   },
   "file_extension": ".py",
   "mimetype": "text/x-python",
   "name": "python",
   "nbconvert_exporter": "python",
   "pygments_lexer": "ipython3",
   "version": "3.9.13"
  }
 },
 "nbformat": 4,
 "nbformat_minor": 5
}
