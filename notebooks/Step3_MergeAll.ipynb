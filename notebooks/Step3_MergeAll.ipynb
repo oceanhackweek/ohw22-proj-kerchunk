{
 "cells": [
  {
   "cell_type": "markdown",
   "id": "66e1579f-a062-4415-be35-db81f3224bdb",
   "metadata": {},
   "source": [
    "# Merge all the monthly files into a single set of references and compress"
   ]
  },
  {
   "cell_type": "code",
   "execution_count": 3,
   "id": "91a6334c-5d20-4fad-8da0-f69f3e0356b0",
   "metadata": {},
   "outputs": [],
   "source": [
    "from kerchunk.combine import MultiZarrToZarr\n",
    "import glob\n",
    "import json\n",
    "import fsspec"
   ]
  },
  {
   "cell_type": "code",
   "execution_count": 5,
   "id": "3f904fa6-60d2-4506-9da6-a92f2e27a432",
   "metadata": {},
   "outputs": [
    {
     "data": {
      "text/plain": [
       "['/home/jovyan/kerchunk_indexes/noaa-himawari8/AHI-L2-FLDK-SST/202104NCCF-L3C_GHRSST-SSTsubskin-AHI_H08-ACSPO_V2.80-v02.0-fv01.0.json',\n",
       " '/home/jovyan/kerchunk_indexes/noaa-himawari8/AHI-L2-FLDK-SST/202105NCCF-L3C_GHRSST-SSTsubskin-AHI_H08-ACSPO_V2.80-v02.0-fv01.0.json',\n",
       " '/home/jovyan/kerchunk_indexes/noaa-himawari8/AHI-L2-FLDK-SST/202106NCCF-L3C_GHRSST-SSTsubskin-AHI_H08-ACSPO_V2.80-v02.0-fv01.0.json',\n",
       " '/home/jovyan/kerchunk_indexes/noaa-himawari8/AHI-L2-FLDK-SST/202107NCCF-L3C_GHRSST-SSTsubskin-AHI_H08-ACSPO_V2.80-v02.0-fv01.0.json',\n",
       " '/home/jovyan/kerchunk_indexes/noaa-himawari8/AHI-L2-FLDK-SST/202108NCCF-L3C_GHRSST-SSTsubskin-AHI_H08-ACSPO_V2.80-v02.0-fv01.0.json',\n",
       " '/home/jovyan/kerchunk_indexes/noaa-himawari8/AHI-L2-FLDK-SST/202109NCCF-L3C_GHRSST-SSTsubskin-AHI_H08-ACSPO_V2.80-v02.0-fv01.0.json',\n",
       " '/home/jovyan/kerchunk_indexes/noaa-himawari8/AHI-L2-FLDK-SST/202110NCCF-L3C_GHRSST-SSTsubskin-AHI_H08-ACSPO_V2.80-v02.0-fv01.0.json',\n",
       " '/home/jovyan/kerchunk_indexes/noaa-himawari8/AHI-L2-FLDK-SST/202111NCCF-L3C_GHRSST-SSTsubskin-AHI_H08-ACSPO_V2.80-v02.0-fv01.0.json',\n",
       " '/home/jovyan/kerchunk_indexes/noaa-himawari8/AHI-L2-FLDK-SST/202112NCCF-L3C_GHRSST-SSTsubskin-AHI_H08-ACSPO_V2.80-v02.0-fv01.0.json',\n",
       " '/home/jovyan/kerchunk_indexes/noaa-himawari8/AHI-L2-FLDK-SST/202201NCCF-L3C_GHRSST-SSTsubskin-AHI_H08-ACSPO_V2.80-v02.0-fv01.0.json',\n",
       " '/home/jovyan/kerchunk_indexes/noaa-himawari8/AHI-L2-FLDK-SST/202202NCCF-L3C_GHRSST-SSTsubskin-AHI_H08-ACSPO_V2.80-v02.0-fv01.0.json',\n",
       " '/home/jovyan/kerchunk_indexes/noaa-himawari8/AHI-L2-FLDK-SST/202203NCCF-L3C_GHRSST-SSTsubskin-AHI_H08-ACSPO_V2.80-v02.0-fv01.0.json',\n",
       " '/home/jovyan/kerchunk_indexes/noaa-himawari8/AHI-L2-FLDK-SST/202204NCCF-L3C_GHRSST-SSTsubskin-AHI_H08-ACSPO_V2.80-v02.0-fv01.0.json',\n",
       " '/home/jovyan/kerchunk_indexes/noaa-himawari8/AHI-L2-FLDK-SST/202205NCCF-L3C_GHRSST-SSTsubskin-AHI_H08-ACSPO_V2.80-v02.0-fv01.0.json',\n",
       " '/home/jovyan/kerchunk_indexes/noaa-himawari8/AHI-L2-FLDK-SST/202206NCCF-L3C_GHRSST-SSTsubskin-AHI_H08-ACSPO_V2.80-v02.0-fv01.0.json',\n",
       " '/home/jovyan/kerchunk_indexes/noaa-himawari8/AHI-L2-FLDK-SST/202207NCCF-L3C_GHRSST-SSTsubskin-AHI_H08-ACSPO_V2.80-v02.0-fv01.0.json',\n",
       " '/home/jovyan/kerchunk_indexes/noaa-himawari8/AHI-L2-FLDK-SST/202208NCCF-L3C_GHRSST-SSTsubskin-AHI_H08-ACSPO_V2.80-v02.0-fv01.0.json']"
      ]
     },
     "execution_count": 5,
     "metadata": {},
     "output_type": "execute_result"
    }
   ],
   "source": [
    "jsons = glob.glob('/home/jovyan/kerchunk_indexes/noaa-himawari8/AHI-L2-FLDK-SST/*NCCF*.json')\n",
    "jsons"
   ]
  },
  {
   "cell_type": "code",
   "execution_count": 6,
   "id": "8c65aec0-62f2-4d4b-a515-3a2b49591143",
   "metadata": {},
   "outputs": [],
   "source": [
    "ref_dicts=[]\n",
    "for j in jsons:\n",
    "    with open(j) as f:\n",
    "        ref_dicts.append(json.load(f))"
   ]
  },
  {
   "cell_type": "code",
   "execution_count": 7,
   "id": "ead34832-ed80-4bd0-8d2d-4f366ae395cf",
   "metadata": {},
   "outputs": [],
   "source": [
    "storage_options=dict(target_options={},\n",
    "                    target_protocol='local',\n",
    "                    remote_options=dict(anon=True),\n",
    "                    remote_protocol='s3')\n",
    "\n",
    "mzz = MultiZarrToZarr(ref_dicts,\n",
    "                    remote_protocol=\"s3\",\n",
    "                    remote_options=storage_options,\n",
    "                    concat_dims=[\"time\"], coo_map={\"time\": \"data:time\"},\n",
    "                    preprocess=None)"
   ]
  },
  {
   "cell_type": "code",
   "execution_count": 8,
   "id": "b6879db8-5ef3-48b7-b129-34121a94995a",
   "metadata": {},
   "outputs": [],
   "source": [
    "dict_agg = mzz.translate()"
   ]
  },
  {
   "cell_type": "code",
   "execution_count": 10,
   "id": "46708948-c0bf-4aa9-92bc-f5877b372fd8",
   "metadata": {},
   "outputs": [],
   "source": [
    "with fsspec.open('/home/jovyan/kerchunk_indexes/noaa-himawari8/AHI-L2-FLDK-SST/combined.zstd',compression='zstd',mode='wb') as f:\n",
    "    f.write(json.dumps(dict_agg).encode())"
   ]
  }
 ],
 "metadata": {
  "kernelspec": {
   "display_name": "Python 3 (ipykernel)",
   "language": "python",
   "name": "python3"
  },
  "language_info": {
   "codemirror_mode": {
    "name": "ipython",
    "version": 3
   },
   "file_extension": ".py",
   "mimetype": "text/x-python",
   "name": "python",
   "nbconvert_exporter": "python",
   "pygments_lexer": "ipython3",
   "version": "3.9.13"
  }
 },
 "nbformat": 4,
 "nbformat_minor": 5
}
